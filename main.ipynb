{
 "cells": [
  {
   "cell_type": "markdown",
   "id": "8e8d0a35",
   "metadata": {},
   "source": [
    "# **ALGORITMOS DE ORDENAMIENTO**"
   ]
  },
  {
   "cell_type": "markdown",
   "id": "f70fe585",
   "metadata": {},
   "source": [
    "### **IMPORTACIONES:**"
   ]
  },
  {
   "cell_type": "code",
   "execution_count": 316,
   "id": "5355c1b5",
   "metadata": {},
   "outputs": [],
   "source": [
    "import time\n",
    "\n",
    "lista = [55, 23, 78, 12, 45, 89, 34, 67, 90, 11, 22, 33, 44, 66, 77, 88, 99]"
   ]
  },
  {
   "cell_type": "markdown",
   "id": "8830bb56",
   "metadata": {},
   "source": [
    "## **GNOME SORT**\n",
    "\n",
    "### **CÓMO FUNCIONA?**\n",
    "\n",
    "- Empieza desde el segundo elemento.\n",
    "\n",
    "- Compara el elemento actual con el anterior:\n",
    "\n",
    "- Si están en el orden correcto → avanza.\n",
    "\n",
    "- Si están mal → los intercambia y retrocede.\n",
    "\n",
    "- Repite hasta que llega al final de la lista."
   ]
  },
  {
   "cell_type": "code",
   "execution_count": 317,
   "id": "2ae858d0",
   "metadata": {},
   "outputs": [
    {
     "name": "stdout",
     "output_type": "stream",
     "text": [
      "Lista original:  [55, 23, 78, 12, 45, 89, 34, 67, 90, 11, 22, 33, 44, 66, 77, 88, 99]\n",
      "Lista ordenada:  [11, 12, 22, 23, 33, 34, 44, 45, 55, 66, 67, 77, 78, 88, 89, 90, 99]\n"
     ]
    }
   ],
   "source": [
    "def gnome_sort(arr):\n",
    "    i = 1\n",
    "    while i < len(arr):\n",
    "        if i == 0 or arr[i] >= arr[i - 1]:\n",
    "            i += 1\n",
    "        else:\n",
    "            arr[i], arr[i - 1] = arr[i - 1], arr[i]\n",
    "            i -= 1\n",
    "\n",
    "copia = lista.copy()\n",
    "gnome_sort(copia)\n",
    "print(\"Lista original: \", lista)\n",
    "print(\"Lista ordenada: \", copia)\n"
   ]
  },
  {
   "cell_type": "markdown",
   "id": "ec2c8c9d",
   "metadata": {},
   "source": [
    "### **COMPARACIÓN DE TIEMPO DE EJECUCIÓN:**"
   ]
  },
  {
   "cell_type": "code",
   "execution_count": null,
   "id": "bb539908",
   "metadata": {},
   "outputs": [
    {
     "name": "stdout",
     "output_type": "stream",
     "text": [
      "Benchmark con lista fija: [55, 23, 78, 12, 45, 89, 34, 67, 90, 11, 22, 33, 44, 66, 77, 88, 99]\n",
      "Insertion Sort: 0.0002 Segundos\n",
      "Bubble Sort:    0.0081 Segundos\n",
      "Quick Sort:     0.0069 Segundos\n",
      "Tim Sort:       0.0003 Segundos\n",
      "Gnome Sort:     0.009 Segundos\n"
     ]
    }
   ],
   "source": [
    "# Algoritmos\n",
    "\n",
    "def insertion_sort(arr):\n",
    "    for i in range(1, len(arr)):\n",
    "        key = arr[i]\n",
    "        j = i - 1\n",
    "        while j >= 0 and key < arr[j]:\n",
    "            arr[j + 1] = arr[j]\n",
    "            j -= 1\n",
    "        arr[j + 1] = key\n",
    "\n",
    "def bubble_sort(arr):\n",
    "    n = len(arr)\n",
    "    for i in range(n):\n",
    "        for j in range(0, n - i - 1):\n",
    "            if arr[j] > arr[j + 1]:\n",
    "                arr[j], arr[j + 1] = arr[j + 1], arr[j]\n",
    "\n",
    "def quick_sort(arr):\n",
    "    if len(arr) <= 1:\n",
    "        return arr\n",
    "    else:\n",
    "        pivot = arr[0]\n",
    "        menores = [x for x in arr[1:] if x <= pivot]\n",
    "        mayores = [x for x in arr[1:] if x > pivot]\n",
    "        return quick_sort(menores) + [pivot] + quick_sort(mayores)\n",
    "\n",
    "def gnome_sort(arr):\n",
    "    i = 1\n",
    "    while i < len(arr):\n",
    "        if i == 0 or arr[i] >= arr[i - 1]:\n",
    "            i += 1\n",
    "        else:\n",
    "            arr[i], arr[i - 1] = arr[i - 1], arr[i]\n",
    "            i -= 1\n",
    "\n",
    "# Configuración\n",
    "\n",
    "repeticiones = 10000\n",
    "\n",
    "def benchmark(algoritmo):\n",
    "    total = 0\n",
    "    for _ in range(repeticiones):\n",
    "        copia = lista.copy() \n",
    "        t0 = time.time()\n",
    "        algoritmo(copia)\n",
    "        total += (time.time() - t0)\n",
    "    return round((total / repeticiones) * 1000, 4) \n",
    "\n",
    "print(\"Benchmark con lista fija:\", lista)\n",
    "print(\"Insertion Sort:\", benchmark(insertion_sort), \"Segundos\")\n",
    "print(\"Bubble Sort:   \", benchmark(bubble_sort), \"Segundos\")\n",
    "print(\"Quick Sort:    \", benchmark(quick_sort), \"Segundos\")\n",
    "print(\"Tim Sort:      \", benchmark(sorted), \"Segundos\")\n",
    "print(\"Gnome Sort:    \", benchmark(gnome_sort), \"Segundos\")"
   ]
  },
  {
   "cell_type": "markdown",
   "id": "e6a1f43d",
   "metadata": {},
   "source": [
    "### **CONCLUSIÓN:**\n",
    "\n",
    "- **¿Cuál fué mas rápido?** \n",
    "- **¿Te sorprendió el resultado?**\n",
    "- **¿Te gustó el algoritmo que elegiste?**"
   ]
  }
 ],
 "metadata": {
  "kernelspec": {
   "display_name": "venv",
   "language": "python",
   "name": "python3"
  },
  "language_info": {
   "codemirror_mode": {
    "name": "ipython",
    "version": 3
   },
   "file_extension": ".py",
   "mimetype": "text/x-python",
   "name": "python",
   "nbconvert_exporter": "python",
   "pygments_lexer": "ipython3",
   "version": "3.13.2"
  }
 },
 "nbformat": 4,
 "nbformat_minor": 5
}
