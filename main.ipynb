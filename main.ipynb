{
 "cells": [
  {
   "cell_type": "markdown",
   "id": "8e8d0a35",
   "metadata": {},
   "source": [
    "# **ALGORITMOS DE ORDENAMIENTO**"
   ]
  },
  {
   "cell_type": "markdown",
   "id": "8830bb56",
   "metadata": {},
   "source": [
    "## **GNOME SORT**\n",
    "\n",
    "### **CÓMO FUNCIONA?**\n",
    "\n",
    "- Empieza desde el segundo elemento.\n",
    "\n",
    "- Compara el elemento actual con el anterior:\n",
    "\n",
    "- Si están en el orden correcto → avanza.\n",
    "\n",
    "- Si están mal → los intercambia y retrocede.\n",
    "\n",
    "- Repite hasta que llega al final de la lista."
   ]
  },
  {
   "cell_type": "code",
   "execution_count": 1,
   "id": "2ae858d0",
   "metadata": {},
   "outputs": [
    {
     "name": "stdout",
     "output_type": "stream",
     "text": [
      "[1, 2, 34, 45, 78]\n"
     ]
    }
   ],
   "source": [
    "lista = [34, 2, 78, 1, 45]\n",
    "\n",
    "def gnome_sort(arr):\n",
    "    i = 1\n",
    "    while i < len(arr):\n",
    "        if i == 0 or arr[i] >= arr[i - 1]:\n",
    "            i += 1\n",
    "        else:\n",
    "            arr[i], arr[i - 1] = arr[i - 1], arr[i]\n",
    "            i -= 1\n",
    "\n",
    "gnome_sort(lista)\n",
    "print(lista)\n"
   ]
  },
  {
   "cell_type": "markdown",
   "id": "ec2c8c9d",
   "metadata": {},
   "source": [
    "### **COMPARACIÓN DE TIEMPO DE EJECUCIÓN:**"
   ]
  },
  {
   "cell_type": "code",
   "execution_count": null,
   "id": "af45ed7b",
   "metadata": {},
   "outputs": [],
   "source": []
  }
 ],
 "metadata": {
  "kernelspec": {
   "display_name": "venv",
   "language": "python",
   "name": "python3"
  },
  "language_info": {
   "codemirror_mode": {
    "name": "ipython",
    "version": 3
   },
   "file_extension": ".py",
   "mimetype": "text/x-python",
   "name": "python",
   "nbconvert_exporter": "python",
   "pygments_lexer": "ipython3",
   "version": "3.13.2"
  }
 },
 "nbformat": 4,
 "nbformat_minor": 5
}
