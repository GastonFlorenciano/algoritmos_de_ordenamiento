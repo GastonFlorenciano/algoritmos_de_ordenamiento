{
 "cells": [
  {
   "cell_type": "markdown",
   "id": "8e8d0a35",
   "metadata": {},
   "source": [
    "# **ALGORITMOS DE ORDENAMIENTO**"
   ]
  },
  {
   "cell_type": "markdown",
   "id": "f70fe585",
   "metadata": {},
   "source": [
    "### **IMPORTACIONES:**"
   ]
  },
  {
   "cell_type": "code",
   "execution_count": 56,
   "id": "5355c1b5",
   "metadata": {},
   "outputs": [],
   "source": [
    "import time\n",
    "\n",
    "lista = [34, 2, 78, 1, 45]"
   ]
  },
  {
   "cell_type": "markdown",
   "id": "8830bb56",
   "metadata": {},
   "source": [
    "## **GNOME SORT**\n",
    "\n",
    "### **CÓMO FUNCIONA?**\n",
    "\n",
    "- Empieza desde el segundo elemento.\n",
    "\n",
    "- Compara el elemento actual con el anterior:\n",
    "\n",
    "- Si están en el orden correcto → avanza.\n",
    "\n",
    "- Si están mal → los intercambia y retrocede.\n",
    "\n",
    "- Repite hasta que llega al final de la lista."
   ]
  },
  {
   "cell_type": "code",
   "execution_count": 57,
   "id": "2ae858d0",
   "metadata": {},
   "outputs": [
    {
     "name": "stdout",
     "output_type": "stream",
     "text": [
      "[1, 2, 34, 45, 78]\n"
     ]
    }
   ],
   "source": [
    "def gnome_sort(arr):\n",
    "    i = 1\n",
    "    while i < len(arr):\n",
    "        if i == 0 or arr[i] >= arr[i - 1]:\n",
    "            i += 1\n",
    "        else:\n",
    "            arr[i], arr[i - 1] = arr[i - 1], arr[i]\n",
    "            i -= 1\n",
    "\n",
    "gnome_sort(lista)\n",
    "print(lista)\n"
   ]
  },
  {
   "cell_type": "markdown",
   "id": "ec2c8c9d",
   "metadata": {},
   "source": [
    "### **COMPARACIÓN DE TIEMPO DE EJECUCIÓN:**"
   ]
  },
  {
   "cell_type": "markdown",
   "id": "339d75aa",
   "metadata": {},
   "source": [
    "**INSERTION SORT**"
   ]
  },
  {
   "cell_type": "code",
   "execution_count": 58,
   "id": "af45ed7b",
   "metadata": {},
   "outputs": [
    {
     "name": "stdout",
     "output_type": "stream",
     "text": [
      "Lista ordenada: [1, 2, 34, 45, 78]\n",
      "Tiempo: 0.04 Segundos\n"
     ]
    }
   ],
   "source": [
    "def insertion_sort(arr):\n",
    "    for i in range(1, len(arr)):\n",
    "        key = arr[i]\n",
    "        j = i - 1\n",
    "        while j >= 0 and key < arr[j]:\n",
    "            arr[j + 1] = arr[j]\n",
    "            j -= 1\n",
    "        arr[j + 1] = key\n",
    "\n",
    "t0 = time.time()\n",
    "insertion_sort(lista)\n",
    "duración = time.time() - t0\n",
    "print(\"Lista ordenada:\", lista)\n",
    "print(\"Tiempo:\", round((duración) * 1000, 2), \"Segundos\")"
   ]
  },
  {
   "cell_type": "markdown",
   "id": "2091e967",
   "metadata": {},
   "source": [
    "**BUBBLE SORT**"
   ]
  },
  {
   "cell_type": "code",
   "execution_count": 59,
   "id": "75e508ca",
   "metadata": {},
   "outputs": [
    {
     "name": "stdout",
     "output_type": "stream",
     "text": [
      "Lista ordenada: [1, 2, 34, 45, 78]\n",
      "Tiempo: 0.05 Segundos\n"
     ]
    }
   ],
   "source": [
    "def bubble_sort(arr):\n",
    "    n = len(arr)\n",
    "    for i in range(n):\n",
    "        for j in range(0, n-i-1):\n",
    "            if arr[j] > arr[j + 1]:\n",
    "                arr[j], arr[j + 1] = arr[j + 1], arr[j]\n",
    "\n",
    "t0 = time.time()\n",
    "bubble_sort(lista)\n",
    "duración = time.time() - t0\n",
    "print(\"Lista ordenada:\", lista)\n",
    "print(\"Tiempo:\", round((duración) * 1000, 2), \"Segundos\")\n"
   ]
  },
  {
   "cell_type": "markdown",
   "id": "884db319",
   "metadata": {},
   "source": [
    "**QUICK SORT**"
   ]
  },
  {
   "cell_type": "code",
   "execution_count": 60,
   "id": "39a53e78",
   "metadata": {},
   "outputs": [
    {
     "name": "stdout",
     "output_type": "stream",
     "text": [
      "Lista ordenada: [1, 2, 34, 45, 78]\n",
      "Tiempo: 0.05 Segundos\n"
     ]
    }
   ],
   "source": [
    "def quick_sort(arr):\n",
    "    if len(arr) <= 1:\n",
    "        return arr\n",
    "    else:\n",
    "        pivot = arr[0]\n",
    "        menores = [x for x in arr[1:] if x <= pivot]\n",
    "        mayores = [x for x in arr[1:] if x > pivot]\n",
    "        return quick_sort(menores) + [pivot] + quick_sort(mayores)\n",
    "\n",
    "t0 = time.time()\n",
    "lista = quick_sort(lista)\n",
    "duración = time.time() - t0\n",
    "print(\"Lista ordenada:\", lista)\n",
    "print(\"Tiempo:\", round((duración) * 1000, 2), \"Segundos\")\n"
   ]
  },
  {
   "cell_type": "markdown",
   "id": "7584efd4",
   "metadata": {},
   "source": [
    "**TIM SORT**"
   ]
  },
  {
   "cell_type": "code",
   "execution_count": 61,
   "id": "fe68c34f",
   "metadata": {},
   "outputs": [
    {
     "name": "stdout",
     "output_type": "stream",
     "text": [
      "Lista ordenada: [1, 2, 34, 45, 78]\n",
      "Tiempo: 0.05 Segundos\n"
     ]
    }
   ],
   "source": [
    "t0 = time.time()\n",
    "lista = sorted(lista)\n",
    "duración = time.time() - t0\n",
    "print(\"Lista ordenada:\", lista)\n",
    "print(\"Tiempo:\", round((duración) * 1000, 2), \"Segundos\")"
   ]
  },
  {
   "cell_type": "markdown",
   "id": "daa3bb6e",
   "metadata": {},
   "source": [
    "**GNOME SORT**"
   ]
  },
  {
   "cell_type": "code",
   "execution_count": 62,
   "id": "27a5059c",
   "metadata": {},
   "outputs": [
    {
     "name": "stdout",
     "output_type": "stream",
     "text": [
      "Lista ordenada: [1, 2, 34, 45, 78]\n",
      "Tiempo: 0.06 Segundos\n"
     ]
    }
   ],
   "source": [
    "def gnome_sort(arr):\n",
    "    i = 1\n",
    "    while i < len(arr):\n",
    "        if i == 0 or arr[i] >= arr[i - 1]:\n",
    "            i += 1\n",
    "        else:\n",
    "            arr[i], arr[i - 1] = arr[i - 1], arr[i]\n",
    "            i -= 1\n",
    "\n",
    "t0 = time.time()\n",
    "gnome_sort(lista)\n",
    "duración = time.time() - t0\n",
    "print(\"Lista ordenada:\", lista)\n",
    "print(\"Tiempo:\", round((duración) * 1000, 2), \"Segundos\")"
   ]
  }
 ],
 "metadata": {
  "kernelspec": {
   "display_name": "venv",
   "language": "python",
   "name": "python3"
  },
  "language_info": {
   "codemirror_mode": {
    "name": "ipython",
    "version": 3
   },
   "file_extension": ".py",
   "mimetype": "text/x-python",
   "name": "python",
   "nbconvert_exporter": "python",
   "pygments_lexer": "ipython3",
   "version": "3.13.2"
  }
 },
 "nbformat": 4,
 "nbformat_minor": 5
}
